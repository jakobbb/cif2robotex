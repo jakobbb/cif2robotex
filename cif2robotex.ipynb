{
  "nbformat": 4,
  "nbformat_minor": 0,
  "metadata": {
    "colab": {
      "name": "cif2robotex.ipynb",
      "provenance": [],
      "collapsed_sections": [],
      "toc_visible": true,
      "authorship_tag": "ABX9TyNE/WSad0EEgJD/7gw5dTMq",
      "include_colab_link": true
    },
    "kernelspec": {
      "name": "python3",
      "display_name": "Python 3"
    }
  },
  "cells": [
    {
      "cell_type": "markdown",
      "metadata": {
        "id": "view-in-github",
        "colab_type": "text"
      },
      "source": [
        "<a href=\"https://colab.research.google.com/github/jakobbb/cif2robotex/blob/master/cif2robotex.ipynb\" target=\"_parent\"><img src=\"https://colab.research.google.com/assets/colab-badge.svg\" alt=\"Open In Colab\"/></a>"
      ]
    },
    {
      "cell_type": "markdown",
      "metadata": {
        "id": "hYgK2-9GKaza",
        "colab_type": "text"
      },
      "source": [
        "# cif2robotex\n",
        "\n",
        "This jupyter notebook can be used to obtain publication ready latex tables from cif files. Furthermore in the future this notebook can also use [robocrys](https://github.com/hackingmaterials/robocrystallographer) to return a first description of the structure."
      ]
    },
    {
      "cell_type": "code",
      "metadata": {
        "id": "QX1v17-fV4Yw",
        "colab_type": "code",
        "outputId": "e98eb088-8b9c-44a5-d3a1-15add54aa1f8",
        "colab": {
          "base_uri": "https://localhost:8080/",
          "height": 193
        }
      },
      "source": [
        "!pip install pymatgen"
      ],
      "execution_count": 1,
      "outputs": [
        {
          "output_type": "stream",
          "text": [
            "  Building wheel for pymatgen (setup.py) ... \u001b[?25l\u001b[?25hdone\n",
            "  Created wheel for pymatgen: filename=pymatgen-2020.4.29-cp36-cp36m-linux_x86_64.whl size=3527771 sha256=a5c8fb7b9f72318b7d138f9932fde09ec11904ea78f77f13fae4f70e0efcdd60\n",
            "  Stored in directory: /root/.cache/pip/wheels/0c/4e/ee/13ca3f09aadb9328e6fe8039bc5df20f80d02bfaee15b620f8\n",
            "Successfully built pymatgen\n",
            "Installing collected packages: ruamel.yaml.clib, ruamel.yaml, monty, spglib, plotly, pymatgen\n",
            "  Found existing installation: plotly 4.4.1\n",
            "    Uninstalling plotly-4.4.1:\n",
            "      Successfully uninstalled plotly-4.4.1\n",
            "Successfully installed monty-3.0.2 plotly-4.7.1 pymatgen-2020.4.29 ruamel.yaml-0.16.10 ruamel.yaml.clib-0.2.0 spglib-1.15.1\n"
          ],
          "name": "stdout"
        }
      ]
    },
    {
      "cell_type": "code",
      "metadata": {
        "id": "8KRghR9yWimL",
        "colab_type": "code",
        "colab": {}
      },
      "source": [
        "from pymatgen.io.cif import CifParser\n",
        "from pymatgen import Structure"
      ],
      "execution_count": 0,
      "outputs": []
    },
    {
      "cell_type": "markdown",
      "metadata": {
        "id": "HSSy9X7rEoNi",
        "colab_type": "text"
      },
      "source": [
        "The following function *cif_import* imports the cif file and returns it as a structure file which can later be used to acces the informations of the cif file.\n",
        "\n",
        "\n"
      ]
    },
    {
      "cell_type": "code",
      "metadata": {
        "id": "4JJjuLAHWtx2",
        "colab_type": "code",
        "colab": {}
      },
      "source": [
        "def cif_import(filename):\n",
        "  parser = CifParser(filename + \".cif\")\n",
        "  structure = parser.as_dict()\n",
        "  structure = structure[list(structure.keys())[0]]\n",
        "  return structure\n",
        "# To import the cif just call the function with the filenmae without extension\n",
        "structure = cif_import(\"xv495_0m\")"
      ],
      "execution_count": 0,
      "outputs": []
    },
    {
      "cell_type": "markdown",
      "metadata": {
        "id": "7FeUtwVQQ892",
        "colab_type": "text"
      },
      "source": [
        "# Cif Table\n",
        "\n",
        "Write .tex file with information from cif file.\n",
        "Add items here using keys of dictionary from cif file.\n",
        "The output will be a latex table\n",
        "\n",
        "\n",
        "\n"
      ]
    },
    {
      "cell_type": "code",
      "metadata": {
        "id": "DBXhU1NME9u3",
        "colab_type": "code",
        "colab": {}
      },
      "source": [
        "def ciftable_tex(filename, structure):\n",
        "  # Open the file with writing permission\n",
        "  with open(filename +\".tex\", \"w\") as myfile:\n",
        "\n",
        "    # Write a line to the file\n",
        "    myfile.write(\"\\\\begin{table} \\n \\\\caption{Crystallographic data for compound}\\n \\\\label{tab:cryst_data} \\n\")\n",
        "    myfile.write(\"\\\\begin{tabular}{@{}ll@{}} \\n\")\n",
        "    myfile.write(\"\\\\toprule\\n\"+ structure[\"_chemical_formula_sum\"] +\"& \\\\ce{} \\\\\\ \\\\midrule \\n\")\n",
        "    myfile.write(\"Formula weight & \"+ structure[\"_chemical_formula_weight\"] +\"    \\\\\\ \\n\")\n",
        "    myfile.write(\"Temperature/K & \"+ structure[\"_cell_measurement_temperature\"] +\"  \\\\\\ \\n\")\n",
        "    myfile.write(\"Crystal system  & \"+ structure[\"_space_group_crystal_system\"]     +\"                           \\\\\\ \\n\")\n",
        "    myfile.write(\"Space group & \"+ structure[\"_space_group_name_H-M_alt\"].replace(\" \", \"\")+ \"  \\\\\\ \\n\")\n",
        "    myfile.write(\"a/\\\\AA\\\\ & \"+ structure[\"_cell_length_a\"] +\" \\\\\\ \\n\")\n",
        "    myfile.write(\"b/\\\\AA\\\\ & \"+ structure[\"_cell_length_b\"] +\"  \\\\\\ \\n\")\n",
        "    myfile.write(\"c/\\\\AA\\\\ & \"+ structure[\"_cell_length_c\"] +\" \\\\\\ \\n\")\n",
        "    myfile.write(\"$\\\\alpha$/\\\\textdegree  & \"+ structure[\"_cell_angle_alpha\"] +\"   \\\\\\ \\n\")\n",
        "    myfile.write(\"$\\\\beta$/\\\\textdegree  & \"+ structure[\"_cell_angle_beta\"] +\" \\\\\\ \\n\")\n",
        "    myfile.write(\"$\\\\gamma$/\\\\textdegree  & \"+ structure[\"_cell_angle_gamma\"] +\" \\\\\\ \\n\")\n",
        "    myfile.write(\"Volume/\\\\AA$^3$   & \"+ structure[\"_cell_volume\"] +\" \\\\\\ \\n\")\n",
        "    myfile.write(\"Z & \"+ structure[\"_cell_formula_units_Z\"] +\" \\\\\\ \\n\")\n",
        "    myfile.write(\"$\\\\rho$calcg/cm$^3$  & \"+ structure[\"_exptl_crystal_density_meas\"]+ \"\\\\\\ \\n\")\n",
        "    myfile.write(\"F(000)  & \"+ structure[\"_exptl_crystal_F_000\"] +\" \\\\\\ \\n\")\n",
        "    myfile.write(\"Crystal size/mm$^3$ & \"+ structure[\"_exptl_crystal_size_max\"] +\" x\" + structure[\"_exptl_crystal_size_mid\"] +\" x\" + structure[\"_exptl_crystal_size_min\"] +\"\\\\\\ \\n\")\n",
        "    myfile.write(\"Radiation  & \"+ structure[\"_diffrn_radiation_type\"]+ \"$\\alpha$ ($\\\\lambda$ = \" + structure[\"_diffrn_radiation_wavelength\"] +\") \\\\\\ \\n\")\n",
        "    myfile.write(\"2$\\\\theta$ range for data collection/\\textdegree                 & \"+ structure[\"_diffrn_reflns_theta_min\"]+ \" to \" + structure[\"_diffrn_reflns_theta_max\"] +\" \\\\\\ \\n\")\n",
        "    myfile.write(\"Index ranges & \" +structure[\"_diffrn_reflns_limit_h_min\"]+\" $\\leq$ h $\\leq$ \"+structure[\"_diffrn_reflns_limit_h_max\"]+\",\"+structure[\"_diffrn_reflns_limit_k_min\"]+\"  $\\leq$ k $\\leq$\"+ structure[\"_diffrn_reflns_limit_k_max\"]+\",\" + structure[\"_diffrn_reflns_limit_l_min\"]+\" $\\leq$ l $\\leq$\"+ structure[\"_diffrn_reflns_limit_h_min\"]+\"  \\\\\\ \\n\")\n",
        "    myfile.write(\"Reflections collected & \"+ structure[\"_diffrn_reflns_number\"]+\" \\\\\\ \\n\")\n",
        "    myfile.write(\"Independent reflections & \" + structure[\"_reflns_number_total\"] + \"{[}R$_{int}$ =\" + structure[\"_diffrn_reflns_av_R_equivalents\"]+ \", R$_\\sigma$ =\" + structure[\"_diffrn_reflns_av_unetI/netI\"]+\"{]} \\\\\\ \\n\")\n",
        "    myfile.write(\"Data/restraints/parameters &\"+ structure[\"_refine_ls_number_reflns\"]+\"/\"+ structure[\"_refine_ls_number_restraints\"]+ \"/\"+ structure[\"_refine_ls_number_parameters\"]  +\" \\\\\\ \\n\")\n",
        "    myfile.write(\"Goodness-of-fit                       &\"+ structure[\"_refine_ls_restrained_S_all\"] +\" \\\\ \\n\")\n",
        "    myfile.write(\"Final R indexes {[}I$geq$2$\\\\sigma$ (I){]} & R$_1$ = \"+ structure[\"_refine_ls_R_factor_gt\"]+ \", wR$_2$ = \"+ structure[\"_refine_ls_wR_factor_gt\"] + \"\\\\\\ \\n\")\n",
        "    myfile.write(\"Final R indexes {[}all data{]}               & R$_1$ = \"+ structure[\"_refine_ls_R_factor_all\"]+ \", wR$_2$ = \"+ structure[\"_refine_ls_wR_factor_ref\"] + \" \\\\\\ \\n\")\n",
        "    myfile.write(\"Largest diff. peak/hole / e \\AA$^-3$  & \"+ structure[\"_refine_diff_density_max\"] + \"/ \"+ structure[\"_refine_diff_density_min\"] +\" \\\\\\* \\\\bottomrule \\n\")\n",
        "    myfile.write(\"\\\\end{table}\")\n",
        "\n",
        "ciftable_tex(\"xv495_0m\", cif_import(\"xv495_0m\"))\n"
      ],
      "execution_count": 0,
      "outputs": []
    },
    {
      "cell_type": "markdown",
      "metadata": {
        "id": "ykhlsCkoX1Dj",
        "colab_type": "text"
      },
      "source": [
        "** Here the table for atom coordinates etc will be written to \"name_tables.tex\" **"
      ]
    },
    {
      "cell_type": "code",
      "metadata": {
        "id": "8cegKTIDYCZc",
        "colab_type": "code",
        "colab": {}
      },
      "source": [
        "import pandas as pd\n",
        "def atom_tables(filename, structure):\n",
        "  atom_label = structure[\"_atom_site_label\"]\n",
        "  atom_x = structure[\"_atom_site_fract_x\"]\n",
        "  atom_y = structure[\"_atom_site_fract_y\"]\n",
        "  atom_z = structure[\"_atom_site_fract_z\"]\n",
        "  atom_U = structure[\"_atom_site_U_iso_or_equiv\"]\n",
        "  data_iso = pd.DataFrame({\"Atom\": atom_label, \"x\": atom_x , \"y\": atom_y, \"z\": atom_z, \"U\": atom_U})\n",
        "\n",
        "  with open(filename+\"_atom_coordinates_iso.tex\", \"w\") as myfile:\n",
        "    myfile.write(data_iso.to_latex(index=False))\n",
        "\n",
        "  atom_anis = structure[\"_atom_site_aniso_label\"]\n",
        "  atom_u11 = structure[\"_atom_site_aniso_U_11\"]\n",
        "  atom_u22 = structure[\"_atom_site_aniso_U_22\"]\n",
        "  atom_u33 = structure[\"_atom_site_aniso_U_33\"]\n",
        "  atom_u23 = structure[\"_atom_site_aniso_U_23\"]\n",
        "  atom_u13 = structure[\"_atom_site_aniso_U_13\"]\n",
        "  atom_u12 = structure[\"_atom_site_aniso_U_12\"]\n",
        "  data_anis = pd.DataFrame({\"Atom\": atom_anis, \"U_{11}\": atom_u11 , \"U_{22}\": atom_u22 , \"U_{33}\": atom_u33 , \"U_{23}\": atom_u23 , \"U_{13}\": atom_u13, \"U_{12}\": atom_u12})\n",
        "\n",
        "  with open(filename+\"_atom_anis.tex\", \"w\") as myfile:\n",
        "    myfile.write(data_anis.to_latex(index=False)) \n",
        "\n",
        "atom_tables(\"example\", cif_import(\"example\"))"
      ],
      "execution_count": 0,
      "outputs": []
    },
    {
      "cell_type": "markdown",
      "metadata": {
        "id": "XblNfd8WYEoY",
        "colab_type": "text"
      },
      "source": [
        "Here robocrys will be used to desccribe the structure"
      ]
    },
    {
      "cell_type": "code",
      "metadata": {
        "id": "iTBKZNwiqthz",
        "colab_type": "code",
        "colab": {}
      },
      "source": [
        "!wget https://repo.anaconda.com/miniconda/Miniconda3-latest-Linux-x86_64.sh\n",
        "!bash Miniconda3-latest-Linux-x86_64.sh -bfp /usr/local\n",
        "!conda config --set always_yes yes\n",
        "!conda config --add channels conda-forge\n",
        "!conda install -c openbabel openbabel \n",
        "!conda update --all\n",
        "!pip install robocrys"
      ],
      "execution_count": 0,
      "outputs": []
    },
    {
      "cell_type": "code",
      "metadata": {
        "id": "7CIBKWuvWiod",
        "colab_type": "code",
        "outputId": "a772b582-ae45-40c9-f2a0-b393e013b4c8",
        "colab": {
          "base_uri": "https://localhost:8080/",
          "height": 164
        }
      },
      "source": [
        "from robocrys import StructureCondenser, StructureDescribe\n",
        "structure_cif = Structure.from_file(filename+ \".cif\") # other file formats also supported\n",
        "\n",
        "# alternatively, uncomment the lines below to use the MPRester object\n",
        "# to fetch structures from the Materials Project database\n",
        "# from pymatgen import MPRester\n",
        "# structure = MPRester(API_KEY=None).get_structure_by_material_id(\"mp-856\")\n",
        "\n",
        "condenser = StructureCondenser()\n",
        "describer = StructureDescriber()\n",
        "\n",
        "condensed_structure = condenser.condense_structure(structure_cif)\n",
        "description = describer.describe(condensed_structure)\n",
        "\n",
        "with open(filename +\".tex\", \"w\") as robotext:\n",
        "  robotext.write(description)"
      ],
      "execution_count": 0,
      "outputs": [
        {
          "output_type": "stream",
          "text": [
            "/usr/local/lib/python3.6/dist-packages/pymatgen/analysis/local_env.py:3956: UserWarning:\n",
            "\n",
            "No oxidation states specified on sites! For better results, set the site oxidation states in the structure.\n",
            "\n",
            "/usr/local/lib/python3.6/dist-packages/pymatgen/analysis/local_env.py:3750: UserWarning:\n",
            "\n",
            "CrystalNN: cannot locate an appropriate radius, covalent or atomic radii will be used, this can lead to non-optimal results.\n",
            "\n"
          ],
          "name": "stderr"
        }
      ]
    }
  ]
}