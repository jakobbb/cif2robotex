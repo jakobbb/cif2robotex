{
  "nbformat": 4,
  "nbformat_minor": 0,
  "metadata": {
    "colab": {
      "name": "cif2robotex.ipynb",
      "provenance": [],
      "collapsed_sections": [],
      "toc_visible": true,
      "authorship_tag": "ABX9TyMTFFdDv1rqdFO1JAi8+6vw",
      "include_colab_link": true
    },
    "kernelspec": {
      "name": "python3",
      "display_name": "Python 3"
    }
  },
  "cells": [
    {
      "cell_type": "markdown",
      "metadata": {
        "id": "view-in-github",
        "colab_type": "text"
      },
      "source": [
        "<a href=\"https://colab.research.google.com/github/jakobbb/cif2robotex/blob/master/cif2robotex.ipynb\" target=\"_parent\"><img src=\"https://colab.research.google.com/assets/colab-badge.svg\" alt=\"Open In Colab\"/></a>"
      ]
    },
    {
      "cell_type": "markdown",
      "metadata": {
        "id": "hYgK2-9GKaza",
        "colab_type": "text"
      },
      "source": [
        "# cif2robotex\n",
        "\n",
        "This jupyter notebook can be used to obtain publication ready latex tables from cif files. Furthermore in the future this notebook can also use [robocrys](https://github.com/hackingmaterials/robocrystallographer) to return a first description of the structure."
      ]
    },
    {
      "cell_type": "code",
      "metadata": {
        "id": "QX1v17-fV4Yw",
        "colab_type": "code",
        "colab": {
          "base_uri": "https://localhost:8080/",
          "height": 1000
        },
        "outputId": "271d9611-96d6-48fb-f5bf-d53c0725c9b4"
      },
      "source": [
        "!pip install pymatgen\n",
        "!apt install -y  openbabel\n",
        "!pip install -U openbabel\n"
      ],
      "execution_count": 1,
      "outputs": [
        {
          "output_type": "stream",
          "text": [
            "Collecting pymatgen\n",
            "\u001b[?25l  Downloading https://files.pythonhosted.org/packages/0b/7e/d5ada74e799a5e2d436713fe3318362774d469c7bb23811e99eaa74ec47c/pymatgen-2020.7.3.tar.gz (2.7MB)\n",
            "\u001b[K     |████████████████████████████████| 2.7MB 2.8MB/s \n",
            "\u001b[?25hRequirement already satisfied: numpy>=1.14.3 in /usr/local/lib/python3.6/dist-packages (from pymatgen) (1.18.5)\n",
            "Requirement already satisfied: requests in /usr/local/lib/python3.6/dist-packages (from pymatgen) (2.23.0)\n",
            "Collecting ruamel.yaml>=0.15.6\n",
            "\u001b[?25l  Downloading https://files.pythonhosted.org/packages/a6/92/59af3e38227b9cc14520bf1e59516d99ceca53e3b8448094248171e9432b/ruamel.yaml-0.16.10-py2.py3-none-any.whl (111kB)\n",
            "\u001b[K     |████████████████████████████████| 112kB 25.4MB/s \n",
            "\u001b[?25hCollecting monty>=3.0.2\n",
            "\u001b[?25l  Downloading https://files.pythonhosted.org/packages/b1/a4/d57b127ad2103ebc1a21a9c6379abc10d5f57f5d92cac86532c15a43818f/monty-3.0.2-py3-none-any.whl (61kB)\n",
            "\u001b[K     |████████████████████████████████| 61kB 7.1MB/s \n",
            "\u001b[?25hCollecting scipy>=1.5.0\n",
            "\u001b[?25l  Downloading https://files.pythonhosted.org/packages/ab/f9/6eeed6d5cd8dd435bbf105d10d778c2d76de1a5838fdbc315a59fb7fad64/scipy-1.5.1-cp36-cp36m-manylinux1_x86_64.whl (25.9MB)\n",
            "\u001b[K     |████████████████████████████████| 25.9MB 1.7MB/s \n",
            "\u001b[?25hRequirement already satisfied: tabulate in /usr/local/lib/python3.6/dist-packages (from pymatgen) (0.8.7)\n",
            "Collecting spglib>=1.9.9.44\n",
            "\u001b[?25l  Downloading https://files.pythonhosted.org/packages/5c/23/4c3ac9800663cac42903b5d696cf34170ec144635c1c77152f7ab97731e1/spglib-1.15.1-cp36-cp36m-manylinux2010_x86_64.whl (294kB)\n",
            "\u001b[K     |████████████████████████████████| 296kB 45.0MB/s \n",
            "\u001b[?25hRequirement already satisfied: networkx>=2.2 in /usr/local/lib/python3.6/dist-packages (from pymatgen) (2.4)\n",
            "Requirement already satisfied: matplotlib>=1.5 in /usr/local/lib/python3.6/dist-packages (from pymatgen) (3.2.2)\n",
            "Requirement already satisfied: palettable>=3.1.1 in /usr/local/lib/python3.6/dist-packages (from pymatgen) (3.3.0)\n",
            "Requirement already satisfied: sympy in /usr/local/lib/python3.6/dist-packages (from pymatgen) (1.1.1)\n",
            "Requirement already satisfied: pandas in /usr/local/lib/python3.6/dist-packages (from pymatgen) (1.0.5)\n",
            "Collecting plotly>=4.5.0\n",
            "\u001b[?25l  Downloading https://files.pythonhosted.org/packages/27/99/9794bcd22fae2e12b689759d53fe26939a4d11b8b44b0b7056e035c64529/plotly-4.8.2-py2.py3-none-any.whl (11.5MB)\n",
            "\u001b[K     |████████████████████████████████| 11.5MB 38.6MB/s \n",
            "\u001b[?25hRequirement already satisfied: dataclasses>=0.6 in /usr/local/lib/python3.6/dist-packages (from pymatgen) (0.7)\n",
            "Requirement already satisfied: certifi>=2017.4.17 in /usr/local/lib/python3.6/dist-packages (from requests->pymatgen) (2020.6.20)\n",
            "Requirement already satisfied: urllib3!=1.25.0,!=1.25.1,<1.26,>=1.21.1 in /usr/local/lib/python3.6/dist-packages (from requests->pymatgen) (1.24.3)\n",
            "Requirement already satisfied: chardet<4,>=3.0.2 in /usr/local/lib/python3.6/dist-packages (from requests->pymatgen) (3.0.4)\n",
            "Requirement already satisfied: idna<3,>=2.5 in /usr/local/lib/python3.6/dist-packages (from requests->pymatgen) (2.9)\n",
            "Collecting ruamel.yaml.clib>=0.1.2; platform_python_implementation == \"CPython\" and python_version < \"3.9\"\n",
            "\u001b[?25l  Downloading https://files.pythonhosted.org/packages/53/77/4bcd63f362bcb6c8f4f06253c11f9772f64189bf08cf3f40c5ccbda9e561/ruamel.yaml.clib-0.2.0-cp36-cp36m-manylinux1_x86_64.whl (548kB)\n",
            "\u001b[K     |████████████████████████████████| 552kB 41.3MB/s \n",
            "\u001b[?25hRequirement already satisfied: decorator>=4.3.0 in /usr/local/lib/python3.6/dist-packages (from networkx>=2.2->pymatgen) (4.4.2)\n",
            "Requirement already satisfied: pyparsing!=2.0.4,!=2.1.2,!=2.1.6,>=2.0.1 in /usr/local/lib/python3.6/dist-packages (from matplotlib>=1.5->pymatgen) (2.4.7)\n",
            "Requirement already satisfied: cycler>=0.10 in /usr/local/lib/python3.6/dist-packages (from matplotlib>=1.5->pymatgen) (0.10.0)\n",
            "Requirement already satisfied: kiwisolver>=1.0.1 in /usr/local/lib/python3.6/dist-packages (from matplotlib>=1.5->pymatgen) (1.2.0)\n",
            "Requirement already satisfied: python-dateutil>=2.1 in /usr/local/lib/python3.6/dist-packages (from matplotlib>=1.5->pymatgen) (2.8.1)\n",
            "Requirement already satisfied: mpmath>=0.19 in /usr/local/lib/python3.6/dist-packages (from sympy->pymatgen) (1.1.0)\n",
            "Requirement already satisfied: pytz>=2017.2 in /usr/local/lib/python3.6/dist-packages (from pandas->pymatgen) (2018.9)\n",
            "Requirement already satisfied: six in /usr/local/lib/python3.6/dist-packages (from plotly>=4.5.0->pymatgen) (1.12.0)\n",
            "Requirement already satisfied: retrying>=1.3.3 in /usr/local/lib/python3.6/dist-packages (from plotly>=4.5.0->pymatgen) (1.3.3)\n",
            "Building wheels for collected packages: pymatgen\n",
            "  Building wheel for pymatgen (setup.py) ... \u001b[?25l\u001b[?25hdone\n",
            "  Created wheel for pymatgen: filename=pymatgen-2020.7.3-cp36-cp36m-linux_x86_64.whl size=3547718 sha256=a8a4d937ab70db7490f95b35d8d305a2ce52a45b79dff9ebc2a76310bc1823cb\n",
            "  Stored in directory: /root/.cache/pip/wheels/b6/dc/73/de79ad2adeef45b8ae2ab20ba1f8f70d8458c9850494a41253\n",
            "Successfully built pymatgen\n",
            "\u001b[31mERROR: tensorflow 2.2.0 has requirement scipy==1.4.1; python_version >= \"3\", but you'll have scipy 1.5.1 which is incompatible.\u001b[0m\n",
            "\u001b[31mERROR: albumentations 0.1.12 has requirement imgaug<0.2.7,>=0.2.5, but you'll have imgaug 0.2.9 which is incompatible.\u001b[0m\n",
            "Installing collected packages: ruamel.yaml.clib, ruamel.yaml, monty, scipy, spglib, plotly, pymatgen\n",
            "  Found existing installation: scipy 1.4.1\n",
            "    Uninstalling scipy-1.4.1:\n",
            "      Successfully uninstalled scipy-1.4.1\n",
            "  Found existing installation: plotly 4.4.1\n",
            "    Uninstalling plotly-4.4.1:\n",
            "      Successfully uninstalled plotly-4.4.1\n",
            "Successfully installed monty-3.0.2 plotly-4.8.2 pymatgen-2020.7.3 ruamel.yaml-0.16.10 ruamel.yaml.clib-0.2.0 scipy-1.5.1 spglib-1.15.1\n",
            "Reading package lists... Done\n",
            "Building dependency tree       \n",
            "Reading state information... Done\n",
            "The following package was automatically installed and is no longer required:\n",
            "  libnvidia-common-440\n",
            "Use 'apt autoremove' to remove it.\n",
            "The following additional packages will be installed:\n",
            "  libopenbabel4v5\n",
            "The following NEW packages will be installed:\n",
            "  libopenbabel4v5 openbabel\n",
            "0 upgraded, 2 newly installed, 0 to remove and 33 not upgraded.\n",
            "Need to get 2,766 kB of archives.\n",
            "After this operation, 11.8 MB of additional disk space will be used.\n",
            "Get:1 http://archive.ubuntu.com/ubuntu bionic/universe amd64 libopenbabel4v5 amd64 2.3.2+dfsg-3build1 [2,664 kB]\n",
            "Get:2 http://archive.ubuntu.com/ubuntu bionic/universe amd64 openbabel amd64 2.3.2+dfsg-3build1 [102 kB]\n",
            "Fetched 2,766 kB in 3s (1,002 kB/s)\n",
            "Selecting previously unselected package libopenbabel4v5.\n",
            "(Reading database ... 144379 files and directories currently installed.)\n",
            "Preparing to unpack .../libopenbabel4v5_2.3.2+dfsg-3build1_amd64.deb ...\n",
            "Unpacking libopenbabel4v5 (2.3.2+dfsg-3build1) ...\n",
            "Selecting previously unselected package openbabel.\n",
            "Preparing to unpack .../openbabel_2.3.2+dfsg-3build1_amd64.deb ...\n",
            "Unpacking openbabel (2.3.2+dfsg-3build1) ...\n",
            "Setting up libopenbabel4v5 (2.3.2+dfsg-3build1) ...\n",
            "Setting up openbabel (2.3.2+dfsg-3build1) ...\n",
            "Processing triggers for man-db (2.8.3-2ubuntu0.1) ...\n",
            "Processing triggers for libc-bin (2.27-3ubuntu1) ...\n",
            "/sbin/ldconfig.real: /usr/local/lib/python3.6/dist-packages/ideep4py/lib/libmkldnn.so.0 is not a symbolic link\n",
            "\n",
            "Collecting openbabel\n",
            "\u001b[?25l  Downloading https://files.pythonhosted.org/packages/9d/3f/f08f5d1422d74ed0e1e612870b343bfcc26313bdf9efec9165c3ea4b3ae2/openbabel-3.1.1.1.tar.gz (82kB)\n",
            "\u001b[K     |████████████████████████████████| 92kB 2.3MB/s \n",
            "\u001b[?25hBuilding wheels for collected packages: openbabel\n",
            "  Building wheel for openbabel (setup.py) ... \u001b[?25lerror\n",
            "\u001b[31m  ERROR: Failed building wheel for openbabel\u001b[0m\n",
            "\u001b[?25h  Running setup.py clean for openbabel\n",
            "Failed to build openbabel\n",
            "Installing collected packages: openbabel\n",
            "    Running setup.py install for openbabel ... \u001b[?25l\u001b[?25herror\n",
            "\u001b[31mERROR: Command errored out with exit status 1: /usr/bin/python3 -u -c 'import sys, setuptools, tokenize; sys.argv[0] = '\"'\"'/tmp/pip-install-7k8v4f6e/openbabel/setup.py'\"'\"'; __file__='\"'\"'/tmp/pip-install-7k8v4f6e/openbabel/setup.py'\"'\"';f=getattr(tokenize, '\"'\"'open'\"'\"', open)(__file__);code=f.read().replace('\"'\"'\\r\\n'\"'\"', '\"'\"'\\n'\"'\"');f.close();exec(compile(code, __file__, '\"'\"'exec'\"'\"'))' install --record /tmp/pip-record-h31ereh4/install-record.txt --single-version-externally-managed --compile Check the logs for full command output.\u001b[0m\n"
          ],
          "name": "stdout"
        }
      ]
    },
    {
      "cell_type": "code",
      "metadata": {
        "id": "8KRghR9yWimL",
        "colab_type": "code",
        "colab": {}
      },
      "source": [
        "from pymatgen.io.cif import CifParser\n",
        "from pymatgen import Structure"
      ],
      "execution_count": 2,
      "outputs": []
    },
    {
      "cell_type": "markdown",
      "metadata": {
        "id": "HSSy9X7rEoNi",
        "colab_type": "text"
      },
      "source": [
        "The following function *cif_import* imports the cif file and returns it as a structure file which can later be used to acces the informations of the cif file.\n",
        "\n",
        "\n"
      ]
    },
    {
      "cell_type": "code",
      "metadata": {
        "id": "4JJjuLAHWtx2",
        "colab_type": "code",
        "colab": {
          "base_uri": "https://localhost:8080/",
          "height": 35
        },
        "outputId": "e2625b39-e5ba-443c-f332-c0795b0a790c"
      },
      "source": [
        "def cif_import(filename):\n",
        "  parser = CifParser(filename + \".cif\")\n",
        "  structure = parser.as_dict()\n",
        "  structure = structure[list(structure.keys())[0]]\n",
        "  return structure\n",
        "# To import the cif just call the function with the filenmae without extension\n",
        "structure = cif_import(\"BLJ223_DABCO_SB_Cu_Br\")\n",
        "print(structure[\"_diffrn_radiation_type\"][:-2])"
      ],
      "execution_count": 16,
      "outputs": [
        {
          "output_type": "stream",
          "text": [
            "MoK\n"
          ],
          "name": "stdout"
        }
      ]
    },
    {
      "cell_type": "markdown",
      "metadata": {
        "id": "7FeUtwVQQ892",
        "colab_type": "text"
      },
      "source": [
        "# Cif Table\n",
        "\n",
        "Write .tex file with information from cif file.\n",
        "Add items here using keys of dictionary from cif file.\n",
        "The output will be a latex table\n",
        "\n",
        "\n",
        "\n"
      ]
    },
    {
      "cell_type": "code",
      "metadata": {
        "id": "DBXhU1NME9u3",
        "colab_type": "code",
        "colab": {}
      },
      "source": [
        "def ciftable_tex(filename, structure):\n",
        "  # Open the file with writing permission\n",
        "  with open(filename +\".tex\", \"w\") as myfile:\n",
        "\n",
        "    # Write a line to the file\n",
        "    myfile.write(\"\\\\begin{table} \\n \\\\caption{Crystallographic data for compound}\\n \\\\label{tab:cryst_data} \\n\")\n",
        "    myfile.write(\"\\\\begin{tabular}{@{}ll@{}} \\n\")\n",
        "    myfile.write(\"\\\\toprule\\n\"+ structure[\"_chemical_formula_sum\"] +\"& \\\\ce{} \\\\\\ \\\\midrule \\n\")\n",
        "    myfile.write(\"Formula weight & \"+ structure[\"_chemical_formula_weight\"] +\"    \\\\\\ \\n\")\n",
        "    myfile.write(\"Temperature/K & \"+ structure[\"_cell_measurement_temperature\"] +\"  \\\\\\ \\n\")\n",
        "    myfile.write(\"Crystal system  & \"+ structure[\"_space_group_crystal_system\"]     +\"                           \\\\\\ \\n\")\n",
        "    myfile.write(\"Space group & \"+ structure[\"_space_group_name_H-M_alt\"].replace(\" \", \"\")+ \"  \\\\\\ \\n\")\n",
        "    myfile.write(\"a/\\\\AA\\\\ & \"+ structure[\"_cell_length_a\"] +\" \\\\\\ \\n\")\n",
        "    myfile.write(\"b/\\\\AA\\\\ & \"+ structure[\"_cell_length_b\"] +\"  \\\\\\ \\n\")\n",
        "    myfile.write(\"c/\\\\AA\\\\ & \"+ structure[\"_cell_length_c\"] +\" \\\\\\ \\n\")\n",
        "    myfile.write(\"$\\\\alpha$/\\\\textdegree  & \"+ structure[\"_cell_angle_alpha\"] +\"   \\\\\\ \\n\")\n",
        "    myfile.write(\"$\\\\beta$/\\\\textdegree  & \"+ structure[\"_cell_angle_beta\"] +\" \\\\\\ \\n\")\n",
        "    myfile.write(\"$\\\\gamma$/\\\\textdegree  & \"+ structure[\"_cell_angle_gamma\"] +\" \\\\\\ \\n\")\n",
        "    myfile.write(\"Volume/\\\\AA$^3$   & \"+ structure[\"_cell_volume\"] +\" \\\\\\ \\n\")\n",
        "    myfile.write(\"Z & \"+ structure[\"_cell_formula_units_Z\"] +\" \\\\\\ \\n\")\n",
        "    myfile.write(\"$\\\\rho$calcg/cm$^3$  & \"+ structure[\"_exptl_crystal_density_meas\"]+ \"\\\\\\ \\n\")\n",
        "    myfile.write(\"F(000)  & \"+ structure[\"_exptl_crystal_F_000\"] +\" \\\\\\ \\n\")\n",
        "    myfile.write(\"Crystal size/mm$^3$ & \"+ structure[\"_exptl_crystal_size_max\"] +\" x\" + structure[\"_exptl_crystal_size_mid\"] +\" x\" + structure[\"_exptl_crystal_size_min\"] +\"\\\\\\ \\n\")\n",
        "    myfile.write(\"Radiation  & \"+ structure[\"_diffrn_radiation_type\"][:-2]+ \"$\\\\alpha$ ($\\\\lambda$ = \" + structure[\"_diffrn_radiation_wavelength\"] +\") \\\\\\ \\n\")\n",
        "    myfile.write(\"2$\\\\theta$ range for data collection/\\textdegree                 & \"+ structure[\"_diffrn_reflns_theta_min\"]+ \" to \" + structure[\"_diffrn_reflns_theta_max\"] +\" \\\\\\ \\n\")\n",
        "    myfile.write(\"Index ranges & \" +structure[\"_diffrn_reflns_limit_h_min\"]+\" $\\leq$ h $\\leq$ \"+structure[\"_diffrn_reflns_limit_h_max\"]+\",\"+structure[\"_diffrn_reflns_limit_k_min\"]+\"  $\\leq$ k $\\leq$\"+ structure[\"_diffrn_reflns_limit_k_max\"]+\",\" + structure[\"_diffrn_reflns_limit_l_min\"]+\" $\\leq$ l $\\leq$\"+ structure[\"_diffrn_reflns_limit_h_min\"]+\"  \\\\\\ \\n\")\n",
        "    myfile.write(\"Reflections collected & \"+ structure[\"_diffrn_reflns_number\"]+\" \\\\\\ \\n\")\n",
        "    myfile.write(\"Independent reflections & \" + structure[\"_reflns_number_total\"] + \"{[}R$_{int}$ =\" + structure[\"_diffrn_reflns_av_R_equivalents\"]+ \", R$_\\sigma$ =\" + structure[\"_diffrn_reflns_av_unetI/netI\"]+\"{]} \\\\\\ \\n\")\n",
        "    myfile.write(\"Data/restraints/parameters &\"+ structure[\"_refine_ls_number_reflns\"]+\"/\"+ structure[\"_refine_ls_number_restraints\"]+ \"/\"+ structure[\"_refine_ls_number_parameters\"]  +\" \\\\\\ \\n\")\n",
        "    myfile.write(\"Goodness-of-fit & \"+ structure[\"_refine_ls_restrained_S_all\"] + \" \\\\\\ \\n\")\n",
        "    myfile.write(\"Final R indexes {[}I$\\\\geq$2$\\\\sigma$ (I){]} & R$_1$ = \"+ structure[\"_refine_ls_R_factor_gt\"]+ \", wR$_2$ = \"+ structure[\"_refine_ls_wR_factor_gt\"] + \"\\\\\\ \\n\")\n",
        "    myfile.write(\"Final R indexes {[}all data{]}               & R$_1$ = \"+ structure[\"_refine_ls_R_factor_all\"]+ \", wR$_2$ = \"+ structure[\"_refine_ls_wR_factor_ref\"] + \" \\\\\\ \\n\")\n",
        "    myfile.write(\"Largest diff. peak/hole / e \\AA$^-3$  & \"+ structure[\"_refine_diff_density_max\"] + \"/ \"+ structure[\"_refine_diff_density_min\"] +\" \\\\\\* \\\\bottomrule \\n\")\n",
        "    myfile.write(\"\\\\end{tabular} \\n\")\n",
        "    myfile.write(\"\\\\end{table}\")\n",
        "\n",
        "ciftable_tex(\"BLJ223_DABCO_SB_Cu_Br\", cif_import(\"BLJ223_DABCO_SB_Cu_Br\"))\n"
      ],
      "execution_count": 23,
      "outputs": []
    },
    {
      "cell_type": "markdown",
      "metadata": {
        "id": "ykhlsCkoX1Dj",
        "colab_type": "text"
      },
      "source": [
        "** Here the table for atom coordinates etc will be written to \"name_tables.tex\" **"
      ]
    },
    {
      "cell_type": "code",
      "metadata": {
        "id": "8cegKTIDYCZc",
        "colab_type": "code",
        "colab": {}
      },
      "source": [
        "import pandas as pd\n",
        "def atom_tables(filename, structure):\n",
        "  atom_label = structure[\"_atom_site_label\"]\n",
        "  atom_x = structure[\"_atom_site_fract_x\"]\n",
        "  atom_y = structure[\"_atom_site_fract_y\"]\n",
        "  atom_z = structure[\"_atom_site_fract_z\"]\n",
        "  atom_U = structure[\"_atom_site_U_iso_or_equiv\"]\n",
        "  data_iso = pd.DataFrame({\"Atom\": atom_label, \"x\": atom_x , \"y\": atom_y, \"z\": atom_z, \"U\": atom_U})\n",
        "\n",
        "  with open(filename+\"_atom_coordinates_iso.tex\", \"w\") as myfile:\n",
        "    myfile.write(data_iso.to_latex(index=False, caption=\"Test\"))\n",
        "\n",
        "  atom_anis = structure[\"_atom_site_aniso_label\"]\n",
        "  atom_u11 = structure[\"_atom_site_aniso_U_11\"]\n",
        "  atom_u22 = structure[\"_atom_site_aniso_U_22\"]\n",
        "  atom_u33 = structure[\"_atom_site_aniso_U_33\"]\n",
        "  atom_u23 = structure[\"_atom_site_aniso_U_23\"]\n",
        "  atom_u13 = structure[\"_atom_site_aniso_U_13\"]\n",
        "  atom_u12 = structure[\"_atom_site_aniso_U_12\"]\n",
        "  data_anis = pd.DataFrame({\"Atom\": atom_anis, \"U_{11}\": atom_u11 , \"U_{22}\": atom_u22 , \"U_{33}\": atom_u33 , \"U_{23}\": atom_u23 , \"U_{13}\": atom_u13, \"U_{12}\": atom_u12})\n",
        "\n",
        "  with open(filename+\"_atom_anis.tex\", \"w\") as myfile:\n",
        "    myfile.write(data_anis.to_latex(index=False)) \n",
        "\n",
        "atom_tables(\"xv495_0m\", cif_import(\"xv495_0m\"))"
      ],
      "execution_count": null,
      "outputs": []
    },
    {
      "cell_type": "markdown",
      "metadata": {
        "id": "XblNfd8WYEoY",
        "colab_type": "text"
      },
      "source": [
        "Here robocrys will be used to desccribe the structure"
      ]
    },
    {
      "cell_type": "code",
      "metadata": {
        "id": "iTBKZNwiqthz",
        "colab_type": "code",
        "colab": {}
      },
      "source": [
        "!pip install robocrys"
      ],
      "execution_count": null,
      "outputs": []
    },
    {
      "cell_type": "code",
      "metadata": {
        "id": "7CIBKWuvWiod",
        "colab_type": "code",
        "colab": {
          "base_uri": "https://localhost:8080/",
          "height": 263
        },
        "outputId": "63afe169-1b19-4317-c52d-c4f7aa9ac5a8"
      },
      "source": [
        "\n",
        "from robocrys import StructureCondenser, StructureDescriber\n",
        "filename = \"BLJ396_Pnma\"\n",
        "structure_cif = Structure.from_file(filename+ \".cif\") # other file formats also supported\n",
        "\n",
        "# alternatively, uncomment the lines below to use the MPRester object\n",
        "# to fetch structures from the Materials Project database\n",
        "# from pymatgen import MPRester\n",
        "# structure = MPRester(API_KEY=None).get_structure_by_material_id(\"mp-856\")\n",
        "\n",
        "condenser = StructureCondenser()\n",
        "describer = StructureDescriber()\n",
        "\n",
        "condensed_structure = condenser.condense_structure(structure_cif)\n",
        "description = describer.describe(condensed_structure)\n",
        "\n",
        "with open(filename +\".tex\", \"w\") as robotext:\n",
        "  robotext.write(description)\n",
        "print(description)"
      ],
      "execution_count": null,
      "outputs": [
        {
          "output_type": "stream",
          "text": [
            "/usr/local/lib/python3.6/dist-packages/pymatgen/analysis/local_env.py:3956: UserWarning:\n",
            "\n",
            "No oxidation states specified on sites! For better results, set the site oxidation states in the structure.\n",
            "\n",
            "/usr/local/lib/python3.6/dist-packages/pymatgen/analysis/local_env.py:3750: UserWarning:\n",
            "\n",
            "CrystalNN: cannot locate an appropriate radius, covalent or atomic radii will be used, this can lead to non-optimal results.\n",
            "\n"
          ],
          "name": "stderr"
        },
        {
          "output_type": "stream",
          "text": [
            "(CH)4(C5N2H5)2SbI5 crystallizes in the orthorhombic Pnma space group. The structure is one-dimensional and consists of eight C5N2H5 clusters; sixteen CH clusters; and two SbI5 ribbons oriented in the (1, 0, 0) direction. In each C5N2H5 cluster, there are three inequivalent C sites. In the first C site, C(7) is bonded in a distorted single-bond geometry to one C(1) and one H(7) atom. The C(7)–C(1) bond length is 1.36 Å. The C(7)–H(7) bond length is 0.93 Å. In the second C site, C(3) is bonded in a trigonal planar geometry to two equivalent N(1) and one H(3) atom. Both C(3)–N(1) bond lengths are 1.29 Å. The C(3)–H(3) bond length is 0.93 Å. In the third C site, C(1) is bonded in a distorted single-bond geometry to one C(1), one C(7), and one N(1) atom. The C(1)–C(1) bond length is 1.39 Å. The C(1)–N(1) bond length is 1.37 Å. N(1) is bonded in a trigonal planar geometry to one C(1), one C(3), and one H(1) atom. The N(1)–H(1) bond length is 0.86 Å. There are three inequivalent H sites. In the first H site, H(1) is bonded in a single-bond geometry to one N(1) atom. In the second H site, H(7) is bonded in a single-bond geometry to one C(7) atom. In the third H site, H(3) is bonded in a single-bond geometry to one C(3) atom. In each CH cluster, C(6) is bonded in a distorted single-bond geometry to one H(6,8) atom. The C(6)–H(6,8) bond length is 0.93 Å. H(6,8) is bonded in a single-bond geometry to one C(6) atom. In each SbI5 ribbon, Sb(1) is bonded to one I(2), one I(3), two equivalent I(1), and two equivalent I(4) atoms to form corner-sharing SbI6 octahedra. The corner-sharing octahedra are not tilted. The Sb(1)–I(2) bond length is 3.04 Å. The Sb(1)–I(3) bond length is 3.03 Å. Both Sb(1)–I(1) bond lengths are 3.32 Å. Both Sb(1)–I(4) bond lengths are 2.82 Å. There are four inequivalent I sites. In the first I site, I(4) is bonded in a single-bond geometry to one Sb(1) atom. In the second I site, I(1) is bonded in a linear geometry to two equivalent Sb(1) atoms. In the third I site, I(2) is bonded in a single-bond geometry to one Sb(1) atom. In the fourth I site, I(3) is bonded in a single-bond geometry to one Sb(1) atom.\n"
          ],
          "name": "stdout"
        },
        {
          "output_type": "stream",
          "text": [
            "/usr/local/lib/python3.6/dist-packages/robocrys/condense/molecule.py:126: UserWarning:\n",
            "\n",
            "Molecule naming requires openbabel to be installed with Python bindings. Please get it at http://openbabel.org.\n",
            "\n"
          ],
          "name": "stderr"
        }
      ]
    }
  ]
}