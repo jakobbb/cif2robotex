{
  "nbformat": 4,
  "nbformat_minor": 0,
  "metadata": {
    "colab": {
      "name": "cif2robotex.ipynb",
      "provenance": [],
      "collapsed_sections": [],
      "authorship_tag": "ABX9TyO9p2AYTKKAMOq6/cyROztf",
      "include_colab_link": true
    },
    "kernelspec": {
      "name": "python3",
      "display_name": "Python 3"
    }
  },
  "cells": [
    {
      "cell_type": "markdown",
      "metadata": {
        "id": "view-in-github",
        "colab_type": "text"
      },
      "source": [
        "<a href=\"https://colab.research.google.com/github/jakobbb/cif2robotex/blob/master/cif2robotex.ipynb\" target=\"_parent\"><img src=\"https://colab.research.google.com/assets/colab-badge.svg\" alt=\"Open In Colab\"/></a>"
      ]
    },
    {
      "cell_type": "code",
      "metadata": {
        "id": "kCKzGoFfXd8G",
        "colab_type": "code",
        "colab": {}
      },
      "source": [
        "!wget https://repo.anaconda.com/archive/Anaconda3-2020.02-Linux-x86_64.sh && bash Anaconda3-2020.02-Linux-x86_64.sh -bfp /usr/local\n",
        "import sys\n",
        "sys.path.append('/usr/local/lib/python3.6/site-packages')"
      ],
      "execution_count": 0,
      "outputs": []
    },
    {
      "cell_type": "code",
      "metadata": {
        "id": "QX1v17-fV4Yw",
        "colab_type": "code",
        "colab": {}
      },
      "source": [
        "\n",
        "!pip install robocrys\n",
        "!pip install pymatgen\n",
        "!conda install -c openbabel openbabel"
      ],
      "execution_count": 0,
      "outputs": []
    },
    {
      "cell_type": "code",
      "metadata": {
        "id": "8KRghR9yWimL",
        "colab_type": "code",
        "colab": {}
      },
      "source": [
        "from pymatgen.io.cif import CifParser\n",
        "from robocrys import StructureCondenser, StructureDescriber\n",
        "from pymatgen import Structure"
      ],
      "execution_count": 0,
      "outputs": []
    },
    {
      "cell_type": "markdown",
      "metadata": {
        "id": "HSSy9X7rEoNi",
        "colab_type": "text"
      },
      "source": [
        "Open the cif file and read it as structure.\n",
        "Enter file name without .cif extension"
      ]
    },
    {
      "cell_type": "code",
      "metadata": {
        "id": "4JJjuLAHWtx2",
        "colab_type": "code",
        "colab": {}
      },
      "source": [
        "filename = \"BLJ_306_P-1\"\n",
        "parser = CifParser(filename + \".cif\")\n",
        "structure = parser.as_dict()\n",
        "structure = structure[list(structure.keys())[0]]"
      ],
      "execution_count": 0,
      "outputs": []
    },
    {
      "cell_type": "markdown",
      "metadata": {
        "id": "7FeUtwVQQ892",
        "colab_type": "text"
      },
      "source": [
        "**Write .tex file with information from cif file.**\n",
        "Add items here unsing keys of dictionary from cif file.\n",
        "The output will be a latex table\n",
        "\n",
        "\n",
        "\n"
      ]
    },
    {
      "cell_type": "code",
      "metadata": {
        "id": "DBXhU1NME9u3",
        "colab_type": "code",
        "colab": {}
      },
      "source": [
        "# Open the file with writing permission\n",
        "with open(filename +\".tex\", \"w\") as myfile:\n",
        "\n",
        "\n",
        "# Write a line to the file\n",
        "  myfile.write(\"\\\\begin{longtable}\\n \\\\caption{}\\n \\label{tab:cryst_data} \\n\")\n",
        "  myfile.write(\"\\\\toprule\\n & \\\\ce{}                               \\\\* \\\\midrule \\n \\\\endfirstheadl \\n \\\\endhead \\n % \\n \\\\bottomrule \\n \\\\endfoot \\n % \\n\\\\endlastfoot \\n% \\n\")\n",
        "\n",
        "  myfile.write(\"Formula weight & \"+ structure[\"_chemical_formula_weight\"]                               +\"    \\\\ \\n\")\n",
        "  myfile.write(\"Temperature/K & \"+ structure[\"_cell_measurement_temperature\"] +\"                                    \\\\ \\n\")\n",
        "  myfile.write(\"Crystal system  & \"+ structure[\"_space_group_crystal_system\"]     +\"                           \\\\ \\n\")\n",
        "  myfile.write(\"Space group & \"+ structure[\"_space_group_name_H-M_alt\"].replace(\" \", \"\")+ \"                                   \\\\ \\n\")\n",
        "  myfile.write(\"a/\\\\AA\\\\ & \"+ structure[\"_cell_length_a\"] +\"                                \\\\ \\n\")\n",
        "  myfile.write(\"b/\\\\AA\\\\ & \"+ structure[\"_cell_length_b\"] +\"                              \\\\ \\n\")\n",
        "  myfile.write(\"c/\\\\AA\\\\ & \"+ structure[\"_cell_length_c\"] +\"                                \\\\ \\n\")\n",
        "  myfile.write(\"$\\\\alpha$/\\\\textdegree  & \"+ structure[\"_cell_angle_alpha\"] +\"                                        \\\\ \\n\")\n",
        "  myfile.write(\"$\\\\beta$/\\\\textdegree  & \"+ structure[\"_cell_angle_beta\"] +\"                               \\\\ \\n\")\n",
        "  myfile.write(\"$\\\\gamma$/\\\\textdegree  & \"+ structure[\"_cell_angle_gamma\"] +\"                                        \\\\ \\n\")\n",
        "  myfile.write(\"Volume/\\\\AA$^3$   & \"+ structure[\"_cell_volume\"] +\"                               \\\\ \\n\")\n",
        "  myfile.write(\"Z & \"+ structure[\"_cell_formula_units_Z\"] +\"                                        \\\\ \\n\")\n",
        "  myfile.write(\"$\\\\rho$calcg/cm$^3$  & \"+ structure[\"_exptl_crystal_density_meas\"]+ \"       \\\\ \\n\")\n",
        "  myfile.write(\"F(000)  & \"+ structure[\"_exptl_crystal_F_000\"] +\" \\\\ \\n\")\n",
        "  myfile.write(\"Crystal size/mm$^3$ & \"+ structure[\"_exptl_crystal_size_max\"] +\" x\" + structure[\"_exptl_crystal_size_mid\"] +\" x\" + structure[\"_exptl_crystal_size_min\"] +\"\\\\\\ \\n\")\n",
        "  myfile.write(\"Radiation  & \"+ structure[\"_diffrn_radiation_type\"]+ \"$\\alpha$ ($\\\\lambda$ = \" + structure[\"_diffrn_radiation_wavelength\"] +\")                        \\\\\\ \\n\")\n",
        "  myfile.write(\"2$\\\\theta$ range for data collection/\\textdegree                 & \"+ structure[\"_diffrn_reflns_theta_min\"]+ \" to \" + structure[\"_diffrn_reflns_theta_max\"] +\" \\\\\\ \\n\")\n",
        "  myfile.write(\"Index ranges & \" +structure[\"_diffrn_reflns_limit_h_min\"]+\" $\\leq$ h $\\leq$ \"+structure[\"_diffrn_reflns_limit_h_max\"]+\",\"+structure[\"_diffrn_reflns_limit_k_min\"]+\"  $\\leq$ k $\\leq$\"+ structure[\"_diffrn_reflns_limit_k_max\"]+\",\" + structure[\"_diffrn_reflns_limit_l_min\"]+\" $\\leq$ l $\\leq$\"+ structure[\"_diffrn_reflns_limit_h_min\"]+\"  \\\\ \\n\")\n",
        "  myfile.write(\"Reflections collected & \"+ structure[\"_diffrn_reflns_number\"]+\" \\\\ \\n\")\n",
        "  myfile.write(\"Independent reflections & \" + structure[\"_reflns_number_total\"] + \"{[}R$_{int}$ =\" + structure[\"_diffrn_reflns_av_R_equivalents\"]+ \", R$_\\sigma$ =\" + structure[\"_diffrn_reflns_av_unetI/netI\"]+\"{]} \\\\ \\n\")\n",
        "  myfile.write(\"Data/restraints/parameters &\"+ structure[\"_refine_ls_number_reflns\"]+\"/\"+ structure[\"_refine_ls_number_restraints\"]+ \"/\"+ structure[\"_refine_ls_number_parameters\"]  +\" \\\\ \\n\")\n",
        "  myfile.write(\"Goodness-of-fit                       &\"+ structure[\"_refine_ls_restrained_S_all\"] +\" \\\\ \\n\")\n",
        "  myfile.write(\"Final R indexes {[}I$geq$2$\\\\sigma$ (I){]} & R$_1$ = \"+ structure[\"_refine_ls_R_factor_gt\"]+ \", wR$_2$ = \"+ structure[\"_refine_ls_wR_factor_gt\"] + \"\\\\\\ \\n\")\n",
        "  myfile.write(\"Final R indexes {[}all data{]}               & R$_1$ = \"+ structure[\"_refine_ls_R_factor_all\"]+ \", wR$_2$ = \"+ structure[\"_refine_ls_wR_factor_ref\"] + \" \\\\\\ \\n\")\n",
        "  myfile.write(\"Largest diff. peak/hole / e \\AA$^-3$            & \"+ structure[\"_refine_diff_density_max\"] + \"/ \"+ structure[\"_refine_diff_density_min\"] +\" \\\\* \\\\bottomrule \\n\")\n",
        "  myfile.write(\"\\\\end{longtable}\")\n",
        "\n",
        "\n"
      ],
      "execution_count": 0,
      "outputs": []
    },
    {
      "cell_type": "markdown",
      "metadata": {
        "id": "ykhlsCkoX1Dj",
        "colab_type": "text"
      },
      "source": [
        "** Here the table for atom coordinates etc will be written to \"name_tables.tex\"**"
      ]
    },
    {
      "cell_type": "code",
      "metadata": {
        "id": "8cegKTIDYCZc",
        "colab_type": "code",
        "colab": {}
      },
      "source": [
        ""
      ],
      "execution_count": 0,
      "outputs": []
    },
    {
      "cell_type": "markdown",
      "metadata": {
        "id": "XblNfd8WYEoY",
        "colab_type": "text"
      },
      "source": [
        "Here robocrys will be used to desccribe the structure"
      ]
    },
    {
      "cell_type": "code",
      "metadata": {
        "id": "7CIBKWuvWiod",
        "colab_type": "code",
        "outputId": "a772b582-ae45-40c9-f2a0-b393e013b4c8",
        "colab": {
          "base_uri": "https://localhost:8080/",
          "height": 164
        }
      },
      "source": [
        "structure_cif = Structure.from_file(filename+ \".cif\") # other file formats also supported\n",
        "\n",
        "# alternatively, uncomment the lines below to use the MPRester object\n",
        "# to fetch structures from the Materials Project database\n",
        "# from pymatgen import MPRester\n",
        "# structure = MPRester(API_KEY=None).get_structure_by_material_id(\"mp-856\")\n",
        "\n",
        "condenser = StructureCondenser()\n",
        "describer = StructureDescriber()\n",
        "\n",
        "condensed_structure = condenser.condense_structure(structure_cif)\n",
        "description = describer.describe(condensed_structure)\n",
        "\n",
        "with open(filename +\".tex\", \"w\") as robotext:\n",
        "  robotext.write(description)"
      ],
      "execution_count": 0,
      "outputs": [
        {
          "output_type": "stream",
          "text": [
            "/usr/local/lib/python3.6/dist-packages/pymatgen/analysis/local_env.py:3956: UserWarning:\n",
            "\n",
            "No oxidation states specified on sites! For better results, set the site oxidation states in the structure.\n",
            "\n",
            "/usr/local/lib/python3.6/dist-packages/pymatgen/analysis/local_env.py:3750: UserWarning:\n",
            "\n",
            "CrystalNN: cannot locate an appropriate radius, covalent or atomic radii will be used, this can lead to non-optimal results.\n",
            "\n"
          ],
          "name": "stderr"
        }
      ]
    }
  ]
}