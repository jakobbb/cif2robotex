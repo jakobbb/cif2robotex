{
  "nbformat": 4,
  "nbformat_minor": 0,
  "metadata": {
    "colab": {
      "name": "cif2robotex.ipynb",
      "provenance": [],
      "collapsed_sections": [],
      "authorship_tag": "ABX9TyObc1EAoDKMjrf7cu19YPgj",
      "include_colab_link": true
    },
    "kernelspec": {
      "name": "python3",
      "display_name": "Python 3"
    }
  },
  "cells": [
    {
      "cell_type": "markdown",
      "metadata": {
        "id": "view-in-github",
        "colab_type": "text"
      },
      "source": [
        "<a href=\"https://colab.research.google.com/github/jakobbb/cif2robotex/blob/atom_coordinates/cif2robotex.ipynb\" target=\"_parent\"><img src=\"https://colab.research.google.com/assets/colab-badge.svg\" alt=\"Open In Colab\"/></a>"
      ]
    },
    {
      "cell_type": "markdown",
      "metadata": {
        "id": "hYgK2-9GKaza",
        "colab_type": "text"
      },
      "source": [
        "# cif2robotex\n",
        "\n",
        "This jupyter notebook can be used to obtain publication ready latex tables from cif files. Furthermore"
      ]
    },
    {
      "cell_type": "code",
      "metadata": {
        "id": "kCKzGoFfXd8G",
        "colab_type": "code",
        "colab": {}
      },
      "source": [
        "!wget https://repo.anaconda.com/miniconda/Miniconda3-latest-Linux-x86_64.sh\n",
        "!bash Miniconda3-latest-Linux-x86_64.sh -bfp /usr/local\n",
        "!conda config --set always_yes yes\n",
        "!conda config --add channels conda-forge\n",
        "!conda install -c openbabel openbabel \n",
        "!conda update --all"
      ],
      "execution_count": 0,
      "outputs": []
    },
    {
      "cell_type": "code",
      "metadata": {
        "id": "QX1v17-fV4Yw",
        "colab_type": "code",
        "outputId": "dbf85a14-00af-4b7e-fddc-995c18ce418d",
        "colab": {
          "base_uri": "https://localhost:8080/",
          "height": 1000
        }
      },
      "source": [
        "!pip install robocrys\n",
        "!pip install pymatgen"
      ],
      "execution_count": 1,
      "outputs": [
        {
          "output_type": "stream",
          "text": [
            "Collecting robocrys\n",
            "\u001b[?25l  Downloading https://files.pythonhosted.org/packages/81/16/b2d10bfbb7d2d9c0b23558114af1cd2753cea607d591988be0f83545da8b/robocrys-0.2.1-py3-none-any.whl (3.8MB)\n",
            "\u001b[K     |████████████████████████████████| 3.8MB 7.9MB/s \n",
            "\u001b[?25hCollecting matminer>=0.6.3\n",
            "\u001b[?25l  Downloading https://files.pythonhosted.org/packages/a7/82/b8bc8dcf906f9203157cace107ade862b953e00b551e11bb3b985dcf13f2/matminer-0.6.3.tar.gz (6.8MB)\n",
            "\u001b[K     |████████████████████████████████| 6.8MB 33.3MB/s \n",
            "\u001b[?25hCollecting spglib\n",
            "\u001b[?25l  Downloading https://files.pythonhosted.org/packages/5c/23/4c3ac9800663cac42903b5d696cf34170ec144635c1c77152f7ab97731e1/spglib-1.15.1-cp36-cp36m-manylinux2010_x86_64.whl (294kB)\n",
            "\u001b[K     |████████████████████████████████| 296kB 48.1MB/s \n",
            "\u001b[?25hCollecting pubchempy\n",
            "  Downloading https://files.pythonhosted.org/packages/aa/fb/8de3aa9804b614dbc8dc5c16ed061d819cc360e0ddecda3dcd01c1552339/PubChemPy-1.0.4.tar.gz\n",
            "Requirement already satisfied: scipy in /usr/local/lib/python3.6/dist-packages (from robocrys) (1.4.1)\n",
            "Collecting pymatgen>=2017.12.30\n",
            "\u001b[?25l  Downloading https://files.pythonhosted.org/packages/8a/55/38113e4bf6e2ffccc41584d7869ea839a77c88f3fda05b6c03efec887c53/pymatgen-2020.4.29.tar.gz (2.7MB)\n",
            "\u001b[K     |████████████████████████████████| 2.7MB 46.4MB/s \n",
            "\u001b[?25hRequirement already satisfied: inflect in /usr/local/lib/python3.6/dist-packages (from robocrys) (2.1.0)\n",
            "Collecting pybtex\n",
            "\u001b[?25l  Downloading https://files.pythonhosted.org/packages/94/2a/11039970561f1bbc74fbaca89b59c26b398a0a70bba8caad553ac779b4f7/pybtex-0.22.2-py2.py3-none-any.whl (279kB)\n",
            "\u001b[K     |████████████████████████████████| 286kB 46.2MB/s \n",
            "\u001b[?25hCollecting monty\n",
            "\u001b[?25l  Downloading https://files.pythonhosted.org/packages/b1/a4/d57b127ad2103ebc1a21a9c6379abc10d5f57f5d92cac86532c15a43818f/monty-3.0.2-py3-none-any.whl (61kB)\n",
            "\u001b[K     |████████████████████████████████| 61kB 8.2MB/s \n",
            "\u001b[?25hRequirement already satisfied: numpy in /usr/local/lib/python3.6/dist-packages (from robocrys) (1.18.4)\n",
            "Requirement already satisfied: networkx in /usr/local/lib/python3.6/dist-packages (from robocrys) (2.4)\n",
            "Requirement already satisfied: requests>=2.22.0 in /usr/local/lib/python3.6/dist-packages (from matminer>=0.6.3->robocrys) (2.23.0)\n",
            "Requirement already satisfied: pandas>=1.0.1 in /usr/local/lib/python3.6/dist-packages (from matminer>=0.6.3->robocrys) (1.0.3)\n",
            "Collecting tqdm>=4.45.0\n",
            "\u001b[?25l  Downloading https://files.pythonhosted.org/packages/c9/40/058b12e8ba10e35f89c9b1fdfc2d4c7f8c05947df2d5eb3c7b258019fda0/tqdm-4.46.0-py2.py3-none-any.whl (63kB)\n",
            "\u001b[K     |████████████████████████████████| 71kB 9.6MB/s \n",
            "\u001b[?25hRequirement already satisfied: pymongo>=3.10.1 in /usr/local/lib/python3.6/dist-packages (from matminer>=0.6.3->robocrys) (3.10.1)\n",
            "Collecting pint>=0.10.1\n",
            "\u001b[?25l  Downloading https://files.pythonhosted.org/packages/9d/db/7a2204b03c22069839958df5723eb2718d50c33052e0da84c9a83de14ea4/Pint-0.11-py2.py3-none-any.whl (186kB)\n",
            "\u001b[K     |████████████████████████████████| 194kB 53.6MB/s \n",
            "\u001b[?25hCollecting six>=1.14.0\n",
            "  Downloading https://files.pythonhosted.org/packages/65/eb/1f97cb97bfc2390a276969c6fae16075da282f5058082d4cb10c6c5c1dba/six-1.14.0-py2.py3-none-any.whl\n",
            "Collecting plotly>=4.5.0\n",
            "\u001b[?25l  Downloading https://files.pythonhosted.org/packages/d7/78/eb6cbe96c8379c54819592bb228c58ed7386fcc60a55eca7db99432fdf14/plotly-4.7.1-py2.py3-none-any.whl (11.5MB)\n",
            "\u001b[K     |████████████████████████████████| 11.5MB 45.2MB/s \n",
            "\u001b[?25hCollecting future>=0.18.2\n",
            "\u001b[?25l  Downloading https://files.pythonhosted.org/packages/45/0b/38b06fd9b92dc2b68d58b75f900e97884c45bedd2ff83203d933cf5851c9/future-0.18.2.tar.gz (829kB)\n",
            "\u001b[K     |████████████████████████████████| 829kB 48.0MB/s \n",
            "\u001b[?25hCollecting sympy>=1.5.1\n",
            "\u001b[?25l  Downloading https://files.pythonhosted.org/packages/ce/5b/acc12e3c0d0be685601fc2b2d20ed18dc0bf461380e763afc9d0a548deb0/sympy-1.5.1-py2.py3-none-any.whl (5.6MB)\n",
            "\u001b[K     |████████████████████████████████| 5.6MB 45.7MB/s \n",
            "\u001b[?25hRequirement already satisfied: scikit_learn>=0.22.1 in /usr/local/lib/python3.6/dist-packages (from matminer>=0.6.3->robocrys) (0.22.2.post1)\n",
            "Collecting jsonschema>=3.2.0\n",
            "\u001b[?25l  Downloading https://files.pythonhosted.org/packages/c5/8f/51e89ce52a085483359217bc72cdbf6e75ee595d5b1d4b5ade40c7e018b8/jsonschema-3.2.0-py2.py3-none-any.whl (56kB)\n",
            "\u001b[K     |████████████████████████████████| 61kB 9.2MB/s \n",
            "\u001b[?25hCollecting ruamel.yaml>=0.15.6\n",
            "\u001b[?25l  Downloading https://files.pythonhosted.org/packages/a6/92/59af3e38227b9cc14520bf1e59516d99ceca53e3b8448094248171e9432b/ruamel.yaml-0.16.10-py2.py3-none-any.whl (111kB)\n",
            "\u001b[K     |████████████████████████████████| 112kB 50.4MB/s \n",
            "\u001b[?25hRequirement already satisfied: tabulate in /usr/local/lib/python3.6/dist-packages (from pymatgen>=2017.12.30->robocrys) (0.8.7)\n",
            "Requirement already satisfied: matplotlib>=1.5 in /usr/local/lib/python3.6/dist-packages (from pymatgen>=2017.12.30->robocrys) (3.2.1)\n",
            "Requirement already satisfied: palettable>=3.1.1 in /usr/local/lib/python3.6/dist-packages (from pymatgen>=2017.12.30->robocrys) (3.3.0)\n",
            "Requirement already satisfied: dataclasses>=0.6 in /usr/local/lib/python3.6/dist-packages (from pymatgen>=2017.12.30->robocrys) (0.7)\n",
            "Collecting latexcodec>=1.0.4\n",
            "  Downloading https://files.pythonhosted.org/packages/8e/4f/6e7353dce0cfde419995117705035c4a0433a08aa7c49219ee589767766a/latexcodec-2.0.0-py2.py3-none-any.whl\n",
            "Requirement already satisfied: PyYAML>=3.01 in /usr/local/lib/python3.6/dist-packages (from pybtex->robocrys) (3.13)\n",
            "Requirement already satisfied: decorator>=4.3.0 in /usr/local/lib/python3.6/dist-packages (from networkx->robocrys) (4.4.2)\n",
            "Requirement already satisfied: chardet<4,>=3.0.2 in /usr/local/lib/python3.6/dist-packages (from requests>=2.22.0->matminer>=0.6.3->robocrys) (3.0.4)\n",
            "Requirement already satisfied: urllib3!=1.25.0,!=1.25.1,<1.26,>=1.21.1 in /usr/local/lib/python3.6/dist-packages (from requests>=2.22.0->matminer>=0.6.3->robocrys) (1.24.3)\n",
            "Requirement already satisfied: certifi>=2017.4.17 in /usr/local/lib/python3.6/dist-packages (from requests>=2.22.0->matminer>=0.6.3->robocrys) (2020.4.5.1)\n",
            "Requirement already satisfied: idna<3,>=2.5 in /usr/local/lib/python3.6/dist-packages (from requests>=2.22.0->matminer>=0.6.3->robocrys) (2.9)\n",
            "Requirement already satisfied: python-dateutil>=2.6.1 in /usr/local/lib/python3.6/dist-packages (from pandas>=1.0.1->matminer>=0.6.3->robocrys) (2.8.1)\n",
            "Requirement already satisfied: pytz>=2017.2 in /usr/local/lib/python3.6/dist-packages (from pandas>=1.0.1->matminer>=0.6.3->robocrys) (2018.9)\n",
            "Requirement already satisfied: setuptools in /usr/local/lib/python3.6/dist-packages (from pint>=0.10.1->matminer>=0.6.3->robocrys) (46.1.3)\n",
            "Requirement already satisfied: retrying>=1.3.3 in /usr/local/lib/python3.6/dist-packages (from plotly>=4.5.0->matminer>=0.6.3->robocrys) (1.3.3)\n",
            "Requirement already satisfied: mpmath>=0.19 in /usr/local/lib/python3.6/dist-packages (from sympy>=1.5.1->matminer>=0.6.3->robocrys) (1.1.0)\n",
            "Requirement already satisfied: joblib>=0.11 in /usr/local/lib/python3.6/dist-packages (from scikit_learn>=0.22.1->matminer>=0.6.3->robocrys) (0.14.1)\n",
            "Requirement already satisfied: pyrsistent>=0.14.0 in /usr/local/lib/python3.6/dist-packages (from jsonschema>=3.2.0->matminer>=0.6.3->robocrys) (0.16.0)\n",
            "Requirement already satisfied: attrs>=17.4.0 in /usr/local/lib/python3.6/dist-packages (from jsonschema>=3.2.0->matminer>=0.6.3->robocrys) (19.3.0)\n",
            "Requirement already satisfied: importlib-metadata; python_version < \"3.8\" in /usr/local/lib/python3.6/dist-packages (from jsonschema>=3.2.0->matminer>=0.6.3->robocrys) (1.6.0)\n",
            "Collecting ruamel.yaml.clib>=0.1.2; platform_python_implementation == \"CPython\" and python_version < \"3.9\"\n",
            "\u001b[?25l  Downloading https://files.pythonhosted.org/packages/53/77/4bcd63f362bcb6c8f4f06253c11f9772f64189bf08cf3f40c5ccbda9e561/ruamel.yaml.clib-0.2.0-cp36-cp36m-manylinux1_x86_64.whl (548kB)\n",
            "\u001b[K     |████████████████████████████████| 552kB 47.9MB/s \n",
            "\u001b[?25hRequirement already satisfied: kiwisolver>=1.0.1 in /usr/local/lib/python3.6/dist-packages (from matplotlib>=1.5->pymatgen>=2017.12.30->robocrys) (1.2.0)\n",
            "Requirement already satisfied: pyparsing!=2.0.4,!=2.1.2,!=2.1.6,>=2.0.1 in /usr/local/lib/python3.6/dist-packages (from matplotlib>=1.5->pymatgen>=2017.12.30->robocrys) (2.4.7)\n",
            "Requirement already satisfied: cycler>=0.10 in /usr/local/lib/python3.6/dist-packages (from matplotlib>=1.5->pymatgen>=2017.12.30->robocrys) (0.10.0)\n",
            "Requirement already satisfied: zipp>=0.5 in /usr/local/lib/python3.6/dist-packages (from importlib-metadata; python_version < \"3.8\"->jsonschema>=3.2.0->matminer>=0.6.3->robocrys) (3.1.0)\n",
            "Building wheels for collected packages: matminer, pubchempy, pymatgen, future\n",
            "  Building wheel for matminer (setup.py) ... \u001b[?25l\u001b[?25hdone\n",
            "  Created wheel for matminer: filename=matminer-0.6.3-cp36-none-any.whl size=1167162 sha256=5bbba4a77c0fa3d32dc29c5cbb8546c806e7a0fd278ae4fb2384511d36cc3160\n",
            "  Stored in directory: /root/.cache/pip/wheels/ba/16/21/291dd912fe201fdbb38d09af570cdab5d8e0dab98162b6ea70\n",
            "  Building wheel for pubchempy (setup.py) ... \u001b[?25l\u001b[?25hdone\n",
            "  Created wheel for pubchempy: filename=PubChemPy-1.0.4-cp36-none-any.whl size=13825 sha256=647f57d0e3075a2462c586ad42c714aabc47a5826a997dd783e098d001e5a17d\n",
            "  Stored in directory: /root/.cache/pip/wheels/10/4d/51/6b843681a9a5aef35f0d0fbce243de46f85080036e16118752\n",
            "  Building wheel for pymatgen (setup.py) ... \u001b[?25l\u001b[?25hdone\n",
            "  Created wheel for pymatgen: filename=pymatgen-2020.4.29-cp36-cp36m-linux_x86_64.whl size=3528721 sha256=450908cd30e2c2fe04c128fb2e2883e6357f6307f12b1eb6003606bf84ea9b19\n",
            "  Stored in directory: /root/.cache/pip/wheels/0c/4e/ee/13ca3f09aadb9328e6fe8039bc5df20f80d02bfaee15b620f8\n",
            "  Building wheel for future (setup.py) ... \u001b[?25l\u001b[?25hdone\n",
            "  Created wheel for future: filename=future-0.18.2-cp36-none-any.whl size=491057 sha256=ba9567e1c773a3f686e2c5e21fbcccbaaeec45e56ae326c69937d5d64886ec90\n",
            "  Stored in directory: /root/.cache/pip/wheels/8b/99/a0/81daf51dcd359a9377b110a8a886b3895921802d2fc1b2397e\n",
            "Successfully built matminer pubchempy pymatgen future\n",
            "\u001b[31mERROR: google-colab 1.0.0 has requirement six~=1.12.0, but you'll have six 1.14.0 which is incompatible.\u001b[0m\n",
            "\u001b[31mERROR: datascience 0.10.6 has requirement folium==0.2.1, but you'll have folium 0.8.3 which is incompatible.\u001b[0m\n",
            "\u001b[31mERROR: albumentations 0.1.12 has requirement imgaug<0.2.7,>=0.2.5, but you'll have imgaug 0.2.9 which is incompatible.\u001b[0m\n",
            "Installing collected packages: ruamel.yaml.clib, ruamel.yaml, monty, spglib, sympy, six, plotly, pymatgen, tqdm, pint, future, jsonschema, matminer, pubchempy, latexcodec, pybtex, robocrys\n",
            "  Found existing installation: sympy 1.1.1\n",
            "    Uninstalling sympy-1.1.1:\n",
            "      Successfully uninstalled sympy-1.1.1\n",
            "  Found existing installation: six 1.12.0\n",
            "    Uninstalling six-1.12.0:\n",
            "      Successfully uninstalled six-1.12.0\n",
            "  Found existing installation: plotly 4.4.1\n",
            "    Uninstalling plotly-4.4.1:\n",
            "      Successfully uninstalled plotly-4.4.1\n",
            "  Found existing installation: tqdm 4.41.1\n",
            "    Uninstalling tqdm-4.41.1:\n",
            "      Successfully uninstalled tqdm-4.41.1\n",
            "  Found existing installation: future 0.16.0\n",
            "    Uninstalling future-0.16.0:\n",
            "      Successfully uninstalled future-0.16.0\n",
            "  Found existing installation: jsonschema 2.6.0\n",
            "    Uninstalling jsonschema-2.6.0:\n",
            "      Successfully uninstalled jsonschema-2.6.0\n",
            "Successfully installed future-0.18.2 jsonschema-3.2.0 latexcodec-2.0.0 matminer-0.6.3 monty-3.0.2 pint-0.11 plotly-4.7.1 pubchempy-1.0.4 pybtex-0.22.2 pymatgen-2020.4.29 robocrys-0.2.1 ruamel.yaml-0.16.10 ruamel.yaml.clib-0.2.0 six-1.14.0 spglib-1.15.1 sympy-1.5.1 tqdm-4.46.0\n"
          ],
          "name": "stdout"
        },
        {
          "output_type": "display_data",
          "data": {
            "application/vnd.colab-display-data+json": {
              "pip_warning": {
                "packages": [
                  "six",
                  "tqdm"
                ]
              }
            }
          },
          "metadata": {
            "tags": []
          }
        },
        {
          "output_type": "stream",
          "text": [
            "Requirement already satisfied: pymatgen in /usr/local/lib/python3.6/dist-packages (2020.4.29)\n",
            "Requirement already satisfied: scipy>=1.0.1 in /usr/local/lib/python3.6/dist-packages (from pymatgen) (1.4.1)\n",
            "Requirement already satisfied: monty>=3.0.2 in /usr/local/lib/python3.6/dist-packages (from pymatgen) (3.0.2)\n",
            "Requirement already satisfied: palettable>=3.1.1 in /usr/local/lib/python3.6/dist-packages (from pymatgen) (3.3.0)\n",
            "Requirement already satisfied: dataclasses>=0.6; python_version < \"3.7\" in /usr/local/lib/python3.6/dist-packages (from pymatgen) (0.7)\n",
            "Requirement already satisfied: networkx>=2.2 in /usr/local/lib/python3.6/dist-packages (from pymatgen) (2.4)\n",
            "Requirement already satisfied: matplotlib>=1.5 in /usr/local/lib/python3.6/dist-packages (from pymatgen) (3.2.1)\n",
            "Requirement already satisfied: pandas in /usr/local/lib/python3.6/dist-packages (from pymatgen) (1.0.3)\n",
            "Requirement already satisfied: numpy>=1.14.3 in /usr/local/lib/python3.6/dist-packages (from pymatgen) (1.18.4)\n",
            "Requirement already satisfied: spglib>=1.9.9.44 in /usr/local/lib/python3.6/dist-packages (from pymatgen) (1.15.1)\n",
            "Requirement already satisfied: requests in /usr/local/lib/python3.6/dist-packages (from pymatgen) (2.23.0)\n",
            "Requirement already satisfied: ruamel.yaml>=0.15.6 in /usr/local/lib/python3.6/dist-packages (from pymatgen) (0.16.10)\n",
            "Requirement already satisfied: plotly>=4.5.0 in /usr/local/lib/python3.6/dist-packages (from pymatgen) (4.7.1)\n",
            "Requirement already satisfied: tabulate in /usr/local/lib/python3.6/dist-packages (from pymatgen) (0.8.7)\n",
            "Requirement already satisfied: sympy in /usr/local/lib/python3.6/dist-packages (from pymatgen) (1.5.1)\n",
            "Requirement already satisfied: decorator>=4.3.0 in /usr/local/lib/python3.6/dist-packages (from networkx>=2.2->pymatgen) (4.4.2)\n",
            "Requirement already satisfied: kiwisolver>=1.0.1 in /usr/local/lib/python3.6/dist-packages (from matplotlib>=1.5->pymatgen) (1.2.0)\n",
            "Requirement already satisfied: cycler>=0.10 in /usr/local/lib/python3.6/dist-packages (from matplotlib>=1.5->pymatgen) (0.10.0)\n",
            "Requirement already satisfied: pyparsing!=2.0.4,!=2.1.2,!=2.1.6,>=2.0.1 in /usr/local/lib/python3.6/dist-packages (from matplotlib>=1.5->pymatgen) (2.4.7)\n",
            "Requirement already satisfied: python-dateutil>=2.1 in /usr/local/lib/python3.6/dist-packages (from matplotlib>=1.5->pymatgen) (2.8.1)\n",
            "Requirement already satisfied: pytz>=2017.2 in /usr/local/lib/python3.6/dist-packages (from pandas->pymatgen) (2018.9)\n",
            "Requirement already satisfied: urllib3!=1.25.0,!=1.25.1,<1.26,>=1.21.1 in /usr/local/lib/python3.6/dist-packages (from requests->pymatgen) (1.24.3)\n",
            "Requirement already satisfied: certifi>=2017.4.17 in /usr/local/lib/python3.6/dist-packages (from requests->pymatgen) (2020.4.5.1)\n",
            "Requirement already satisfied: idna<3,>=2.5 in /usr/local/lib/python3.6/dist-packages (from requests->pymatgen) (2.9)\n",
            "Requirement already satisfied: chardet<4,>=3.0.2 in /usr/local/lib/python3.6/dist-packages (from requests->pymatgen) (3.0.4)\n",
            "Requirement already satisfied: ruamel.yaml.clib>=0.1.2; platform_python_implementation == \"CPython\" and python_version < \"3.9\" in /usr/local/lib/python3.6/dist-packages (from ruamel.yaml>=0.15.6->pymatgen) (0.2.0)\n",
            "Requirement already satisfied: retrying>=1.3.3 in /usr/local/lib/python3.6/dist-packages (from plotly>=4.5.0->pymatgen) (1.3.3)\n",
            "Requirement already satisfied: six in /usr/local/lib/python3.6/dist-packages (from plotly>=4.5.0->pymatgen) (1.14.0)\n",
            "Requirement already satisfied: mpmath>=0.19 in /usr/local/lib/python3.6/dist-packages (from sympy->pymatgen) (1.1.0)\n"
          ],
          "name": "stdout"
        }
      ]
    },
    {
      "cell_type": "code",
      "metadata": {
        "id": "8KRghR9yWimL",
        "colab_type": "code",
        "colab": {}
      },
      "source": [
        "from pymatgen.io.cif import CifParser\n",
        "from robocrys import StructureCondenser, StructureDescriber\n",
        "from pymatgen import Structure"
      ],
      "execution_count": 0,
      "outputs": []
    },
    {
      "cell_type": "markdown",
      "metadata": {
        "id": "HSSy9X7rEoNi",
        "colab_type": "text"
      },
      "source": [
        "Open the cif file and read it as structure.\n",
        "Enter file name without .cif extension"
      ]
    },
    {
      "cell_type": "code",
      "metadata": {
        "id": "4JJjuLAHWtx2",
        "colab_type": "code",
        "colab": {
          "base_uri": "https://localhost:8080/",
          "height": 55
        },
        "outputId": "20a82941-cc89-4e24-a9ce-08069d880e38"
      },
      "source": [
        "filename = \"BLJ372_2\"\n",
        "parser = CifParser(filename + \".cif\")\n",
        "structure = parser.as_dict()\n",
        "structure = structure[list(structure.keys())[0]]\n",
        "print(structure[\"_atom_site_fract_x\"])"
      ],
      "execution_count": 7,
      "outputs": [
        {
          "output_type": "stream",
          "text": [
            "['0.62323(5)', '0.52521(18)', '0.58008(12)', '0.7460(2)', '0.5300(2)', '0.66287(13)', '0.3878(11)', '0.8471(12)', '0.2829(15)', '0.205(2)', '0.323(4)', '0.211(4)', '0.1334(14)', '0.8918(19)', '0.344(3)', '0.3147(18)', '0.883(2)', '0.843(2)', '0.165(2)', '0.232(6)', '0.892(4)', '0.971(6)']\n"
          ],
          "name": "stdout"
        }
      ]
    },
    {
      "cell_type": "markdown",
      "metadata": {
        "id": "7FeUtwVQQ892",
        "colab_type": "text"
      },
      "source": [
        "**Write .tex file with information from cif file.**\n",
        "Add items here unsing keys of dictionary from cif file.\n",
        "The output will be a latex table\n",
        "\n",
        "\n",
        "\n"
      ]
    },
    {
      "cell_type": "code",
      "metadata": {
        "id": "DBXhU1NME9u3",
        "colab_type": "code",
        "colab": {}
      },
      "source": [
        "# Open the file with writing permission\n",
        "with open(filename +\".tex\", \"w\") as myfile:\n",
        "\n",
        "\n",
        "# Write a line to the file\n",
        "  myfile.write(\"\\\\begin{longtable}\\n \\\\caption{}\\n \\label{tab:cryst_data} \\n\")\n",
        "  myfile.write(\"\\\\toprule\\n & \\\\ce{}                               \\\\* \\\\midrule \\n \\\\endfirstheadl \\n \\\\endhead \\n % \\n \\\\bottomrule \\n \\\\endfoot \\n % \\n\\\\endlastfoot \\n% \\n\")\n",
        "\n",
        "  myfile.write(\"Formula weight & \"+ structure[\"_chemical_formula_weight\"]                               +\"    \\\\ \\n\")\n",
        "  myfile.write(\"Temperature/K & \"+ structure[\"_cell_measurement_temperature\"] +\"                                    \\\\ \\n\")\n",
        "  myfile.write(\"Crystal system  & \"+ structure[\"_space_group_crystal_system\"]     +\"                           \\\\ \\n\")\n",
        "  myfile.write(\"Space group & \"+ structure[\"_space_group_name_H-M_alt\"].replace(\" \", \"\")+ \"                                   \\\\ \\n\")\n",
        "  myfile.write(\"a/\\\\AA\\\\ & \"+ structure[\"_cell_length_a\"] +\"                                \\\\ \\n\")\n",
        "  myfile.write(\"b/\\\\AA\\\\ & \"+ structure[\"_cell_length_b\"] +\"                              \\\\ \\n\")\n",
        "  myfile.write(\"c/\\\\AA\\\\ & \"+ structure[\"_cell_length_c\"] +\"                                \\\\ \\n\")\n",
        "  myfile.write(\"$\\\\alpha$/\\\\textdegree  & \"+ structure[\"_cell_angle_alpha\"] +\"                                        \\\\ \\n\")\n",
        "  myfile.write(\"$\\\\beta$/\\\\textdegree  & \"+ structure[\"_cell_angle_beta\"] +\"                               \\\\ \\n\")\n",
        "  myfile.write(\"$\\\\gamma$/\\\\textdegree  & \"+ structure[\"_cell_angle_gamma\"] +\"                                        \\\\ \\n\")\n",
        "  myfile.write(\"Volume/\\\\AA$^3$   & \"+ structure[\"_cell_volume\"] +\"                               \\\\ \\n\")\n",
        "  myfile.write(\"Z & \"+ structure[\"_cell_formula_units_Z\"] +\"                                        \\\\ \\n\")\n",
        "  myfile.write(\"$\\\\rho$calcg/cm$^3$  & \"+ structure[\"_exptl_crystal_density_meas\"]+ \"       \\\\ \\n\")\n",
        "  myfile.write(\"F(000)  & \"+ structure[\"_exptl_crystal_F_000\"] +\" \\\\ \\n\")\n",
        "  myfile.write(\"Crystal size/mm$^3$ & \"+ structure[\"_exptl_crystal_size_max\"] +\" x\" + structure[\"_exptl_crystal_size_mid\"] +\" x\" + structure[\"_exptl_crystal_size_min\"] +\"\\\\\\ \\n\")\n",
        "  myfile.write(\"Radiation  & \"+ structure[\"_diffrn_radiation_type\"]+ \"$\\alpha$ ($\\\\lambda$ = \" + structure[\"_diffrn_radiation_wavelength\"] +\")                        \\\\\\ \\n\")\n",
        "  myfile.write(\"2$\\\\theta$ range for data collection/\\textdegree                 & \"+ structure[\"_diffrn_reflns_theta_min\"]+ \" to \" + structure[\"_diffrn_reflns_theta_max\"] +\" \\\\\\ \\n\")\n",
        "  myfile.write(\"Index ranges & \" +structure[\"_diffrn_reflns_limit_h_min\"]+\" $\\leq$ h $\\leq$ \"+structure[\"_diffrn_reflns_limit_h_max\"]+\",\"+structure[\"_diffrn_reflns_limit_k_min\"]+\"  $\\leq$ k $\\leq$\"+ structure[\"_diffrn_reflns_limit_k_max\"]+\",\" + structure[\"_diffrn_reflns_limit_l_min\"]+\" $\\leq$ l $\\leq$\"+ structure[\"_diffrn_reflns_limit_h_min\"]+\"  \\\\ \\n\")\n",
        "  myfile.write(\"Reflections collected & \"+ structure[\"_diffrn_reflns_number\"]+\" \\\\ \\n\")\n",
        "  myfile.write(\"Independent reflections & \" + structure[\"_reflns_number_total\"] + \"{[}R$_{int}$ =\" + structure[\"_diffrn_reflns_av_R_equivalents\"]+ \", R$_\\sigma$ =\" + structure[\"_diffrn_reflns_av_unetI/netI\"]+\"{]} \\\\ \\n\")\n",
        "  myfile.write(\"Data/restraints/parameters &\"+ structure[\"_refine_ls_number_reflns\"]+\"/\"+ structure[\"_refine_ls_number_restraints\"]+ \"/\"+ structure[\"_refine_ls_number_parameters\"]  +\" \\\\ \\n\")\n",
        "  myfile.write(\"Goodness-of-fit                       &\"+ structure[\"_refine_ls_restrained_S_all\"] +\" \\\\ \\n\")\n",
        "  myfile.write(\"Final R indexes {[}I$geq$2$\\\\sigma$ (I){]} & R$_1$ = \"+ structure[\"_refine_ls_R_factor_gt\"]+ \", wR$_2$ = \"+ structure[\"_refine_ls_wR_factor_gt\"] + \"\\\\\\ \\n\")\n",
        "  myfile.write(\"Final R indexes {[}all data{]}               & R$_1$ = \"+ structure[\"_refine_ls_R_factor_all\"]+ \", wR$_2$ = \"+ structure[\"_refine_ls_wR_factor_ref\"] + \" \\\\\\ \\n\")\n",
        "  myfile.write(\"Largest diff. peak/hole / e \\AA$^-3$            & \"+ structure[\"_refine_diff_density_max\"] + \"/ \"+ structure[\"_refine_diff_density_min\"] +\" \\\\* \\\\bottomrule \\n\")\n",
        "  myfile.write(\"\\\\end{longtable}\")\n",
        "\n",
        "\n"
      ],
      "execution_count": 0,
      "outputs": []
    },
    {
      "cell_type": "markdown",
      "metadata": {
        "id": "ykhlsCkoX1Dj",
        "colab_type": "text"
      },
      "source": [
        "** Here the table for atom coordinates etc will be written to \"name_tables.tex\" **"
      ]
    },
    {
      "cell_type": "code",
      "metadata": {
        "id": "8cegKTIDYCZc",
        "colab_type": "code",
        "colab": {}
      },
      "source": [
        "import pandas as pd\n",
        "\n",
        "atom_label = structure[\"_atom_site_label\"]\n",
        "atom_x = structure[\"_atom_site_fract_x\"]\n",
        "atom_y = structure[\"_atom_site_fract_y\"]\n",
        "atom_z = structure[\"_atom_site_fract_z\"]\n",
        "atom_U = structure[\"_atom_site_U_iso_or_equiv\"]\n",
        "data_iso = pd.DataFrame({\"Atom\": atom_label, \"x\": atom_x , \"y\": atom_y, \"z\": atom_z, \"U\": atom_U})\n",
        "\n",
        "with open(filename+\"_atom_coordinates_iso.tex\", \"w\") as myfile:\n",
        "  myfile.write(data_iso.to_latex(index=False))\n",
        "\n",
        "atom_anis = structure[\"_atom_site_aniso_label\"]\n",
        "atom_u11 = structure[\"_atom_site_aniso_U_11\"]\n",
        "atom_u22 = structure[\"_atom_site_aniso_U_22\"]\n",
        "atom_u33 = structure[\"_atom_site_aniso_U_33\"]\n",
        "atom_u23 = structure[\"_atom_site_aniso_U_23\"]\n",
        "atom_u13 = structure[\"_atom_site_aniso_U_13\"]\n",
        "atom_u12 = structure[\"_atom_site_aniso_U_12\"]\n",
        "data_anis = pd.DataFrame({\"Atom\": atom_anis, \"U_{11}\": atom_u11 , \"U_{22}\": atom_u22 , \"U_{33}\": atom_u33 , \"U_{23}\": atom_u23 , \"U_{13}\": atom_u13, \"U_{12}\": atom_u12})\n",
        "\n",
        "with open(filename+\"_atom_anis.tex\", \"w\") as myfile:\n",
        "  myfile.write(data_anis.to_latex(index=False)) "
      ],
      "execution_count": 0,
      "outputs": []
    },
    {
      "cell_type": "markdown",
      "metadata": {
        "id": "XblNfd8WYEoY",
        "colab_type": "text"
      },
      "source": [
        "Here robocrys will be used to desccribe the structure"
      ]
    },
    {
      "cell_type": "code",
      "metadata": {
        "id": "7CIBKWuvWiod",
        "colab_type": "code",
        "outputId": "a772b582-ae45-40c9-f2a0-b393e013b4c8",
        "colab": {
          "base_uri": "https://localhost:8080/",
          "height": 164
        }
      },
      "source": [
        "structure_cif = Structure.from_file(filename+ \".cif\") # other file formats also supported\n",
        "\n",
        "# alternatively, uncomment the lines below to use the MPRester object\n",
        "# to fetch structures from the Materials Project database\n",
        "# from pymatgen import MPRester\n",
        "# structure = MPRester(API_KEY=None).get_structure_by_material_id(\"mp-856\")\n",
        "\n",
        "condenser = StructureCondenser()\n",
        "describer = StructureDescriber()\n",
        "\n",
        "condensed_structure = condenser.condense_structure(structure_cif)\n",
        "description = describer.describe(condensed_structure)\n",
        "\n",
        "with open(filename +\".tex\", \"w\") as robotext:\n",
        "  robotext.write(description)"
      ],
      "execution_count": 0,
      "outputs": [
        {
          "output_type": "stream",
          "text": [
            "/usr/local/lib/python3.6/dist-packages/pymatgen/analysis/local_env.py:3956: UserWarning:\n",
            "\n",
            "No oxidation states specified on sites! For better results, set the site oxidation states in the structure.\n",
            "\n",
            "/usr/local/lib/python3.6/dist-packages/pymatgen/analysis/local_env.py:3750: UserWarning:\n",
            "\n",
            "CrystalNN: cannot locate an appropriate radius, covalent or atomic radii will be used, this can lead to non-optimal results.\n",
            "\n"
          ],
          "name": "stderr"
        }
      ]
    }
  ]
}